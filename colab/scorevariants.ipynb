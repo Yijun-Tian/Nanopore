{
  "nbformat": 4,
  "nbformat_minor": 0,
  "metadata": {
    "colab": {
      "provenance": [],
      "authorship_tag": "ABX9TyOBPukMNwergOLKpabKukS8",
      "include_colab_link": true
    },
    "kernelspec": {
      "name": "python3",
      "display_name": "Python 3"
    },
    "language_info": {
      "name": "python"
    }
  },
  "cells": [
    {
      "cell_type": "markdown",
      "metadata": {
        "id": "view-in-github",
        "colab_type": "text"
      },
      "source": [
        "<a href=\"https://colab.research.google.com/github/Yijun-Tian/Nanopore/blob/main/colab/scorevariants.ipynb\" target=\"_parent\"><img src=\"https://colab.research.google.com/assets/colab-badge.svg\" alt=\"Open In Colab\"/></a>"
      ]
    },
    {
      "cell_type": "code",
      "execution_count": null,
      "metadata": {
        "id": "X28HTxGgWS2v"
      },
      "outputs": [],
      "source": [
        "# prompt:  using alphaGenome to score two sets of germline variants to compare their regulatory potential\n",
        "\n",
        "!pip install alphagenome\n",
        "\n",
        "from alphagenome import scores_to_hdf5\n",
        "\n",
        "# Assuming you have your variant data in two separate CSV files\n",
        "# formatted as 'CHROM, POS, REF, ALT'\n",
        "variant_file_1 = 'variants1.csv'\n",
        "variant_file_2 = 'variants2.csv'\n",
        "output_file = 'scores.hdf5'\n",
        "\n",
        "# Score the variant sets\n",
        "scores_to_hdf5([variant_file_1, variant_file_2], output_file)\n",
        "\n",
        "print(f\"Variant scores saved to {output_file}\")\n",
        "\n",
        "# You can now load the HDF5 file and compare the scores\n",
        "import h5py\n",
        "import numpy as np\n",
        "\n",
        "with h5py.File(output_file, 'r') as f:\n",
        "    # The scores are stored under keys corresponding to the input filenames\n",
        "    scores1 = np.array(f[variant_file_1])\n",
        "    scores2 = np.array(f[variant_file_2])\n",
        "\n",
        "# Now you can perform your comparison, for example:\n",
        "print(f\"Mean score for {variant_file_1}: {np.mean(scores1)}\")\n",
        "print(f\"Mean score for {variant_file_2}: {np.mean(scores2)}\")\n",
        "\n",
        "# You can also compare distributions, look at individual variant scores, etc."
      ]
    }
  ]
}